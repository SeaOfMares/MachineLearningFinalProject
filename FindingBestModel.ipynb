{
 "cells": [
  {
   "cell_type": "code",
   "execution_count": 7,
   "metadata": {},
   "outputs": [],
   "source": [
    "#imports\n",
    "import pandas as pd\n",
    "import numpy as np\n",
    "from sklearn import tree\n",
    "from sklearn.tree import DecisionTreeClassifier\n",
    "from sklearn.ensemble import RandomForestClassifier\n",
    "from sklearn.model_selection import train_test_split, KFold, StratifiedKFold, GroupKFold\n",
    "from sklearn.metrics import accuracy_score, confusion_matrix, precision_score, recall_score, f1_score,mean_squared_error,mean_absolute_error\n",
    "from sklearn.utils import class_weight\n",
    "from imblearn.over_sampling import RandomOverSampler\n",
    "from imblearn.pipeline import make_pipeline\n",
    "from imblearn.over_sampling import SMOTENC\n"
   ]
  },
  {
   "cell_type": "code",
   "execution_count": 2,
   "metadata": {},
   "outputs": [],
   "source": [
    "df = pd.read_csv(\"Transformed_Accidents.csv\")\n",
    "df = df.dropna()\n",
    "arr = df.to_numpy(dtype= int)\n",
    "labels = arr.transpose()[0] #getting the classes\n",
    "features = arr.transpose()[1:] #getting the features and excluding the classes\n",
    "features = features.transpose()"
   ]
  },
  {
   "cell_type": "code",
   "execution_count": 3,
   "metadata": {},
   "outputs": [
    {
     "name": "stdout",
     "output_type": "stream",
     "text": [
      "[     0   6826  83194 599129]\n"
     ]
    }
   ],
   "source": [
    "print(np.bincount(labels))"
   ]
  },
  {
   "cell_type": "code",
   "execution_count": 5,
   "metadata": {},
   "outputs": [],
   "source": [
    "#this is for creating synthethic samples for minority classes\n",
    "smote_nc = SMOTENC(categorical_features= [1,2,3], random_state=0)\n",
    "x_resampled , y_resampled = smote_nc.fit_resample(features,labels)"
   ]
  },
  {
   "cell_type": "code",
   "execution_count": null,
   "metadata": {},
   "outputs": [],
   "source": [
    "print(x_resampled.shape)\n",
    "print(y_resampled.shape)"
   ]
  },
  {
   "cell_type": "code",
   "execution_count": 13,
   "metadata": {},
   "outputs": [
    {
     "ename": "ValueError",
     "evalue": "Found input variables with inconsistent numbers of samples: [1797387, 689149]",
     "output_type": "error",
     "traceback": [
      "\u001b[1;31m---------------------------------------------------------------------------\u001b[0m",
      "\u001b[1;31mValueError\u001b[0m                                Traceback (most recent call last)",
      "Cell \u001b[1;32mIn[13], line 3\u001b[0m\n\u001b[0;32m      1\u001b[0m \u001b[39m#his is cross validating train and test data\u001b[39;00m\n\u001b[0;32m      2\u001b[0m kf \u001b[39m=\u001b[39m GroupKFold(n_splits\u001b[39m=\u001b[39m \u001b[39m10\u001b[39m)\n\u001b[1;32m----> 3\u001b[0m \u001b[39mfor\u001b[39;00m train_index, test_index \u001b[39min\u001b[39;00m kf\u001b[39m.\u001b[39msplit(x_resampled,labels):\n\u001b[0;32m      4\u001b[0m     x_train,x_test \u001b[39m=\u001b[39m x_resampled[train_index], x_resampled[test_index]\n\u001b[0;32m      5\u001b[0m     y_train, y_test \u001b[39m=\u001b[39m y_resampled[train_index], y_resampled[test_index]\n",
      "File \u001b[1;32mc:\\Users\\mares\\AppData\\Local\\Programs\\Python\\Python310\\lib\\site-packages\\sklearn\\model_selection\\_split.py:330\u001b[0m, in \u001b[0;36m_BaseKFold.split\u001b[1;34m(self, X, y, groups)\u001b[0m\n\u001b[0;32m    306\u001b[0m \u001b[39mdef\u001b[39;00m \u001b[39msplit\u001b[39m(\u001b[39mself\u001b[39m, X, y\u001b[39m=\u001b[39m\u001b[39mNone\u001b[39;00m, groups\u001b[39m=\u001b[39m\u001b[39mNone\u001b[39;00m):\n\u001b[0;32m    307\u001b[0m     \u001b[39m\"\"\"Generate indices to split data into training and test set.\u001b[39;00m\n\u001b[0;32m    308\u001b[0m \n\u001b[0;32m    309\u001b[0m \u001b[39m    Parameters\u001b[39;00m\n\u001b[1;32m   (...)\u001b[0m\n\u001b[0;32m    328\u001b[0m \u001b[39m        The testing set indices for that split.\u001b[39;00m\n\u001b[0;32m    329\u001b[0m \u001b[39m    \"\"\"\u001b[39;00m\n\u001b[1;32m--> 330\u001b[0m     X, y, groups \u001b[39m=\u001b[39m indexable(X, y, groups)\n\u001b[0;32m    331\u001b[0m     n_samples \u001b[39m=\u001b[39m _num_samples(X)\n\u001b[0;32m    332\u001b[0m     \u001b[39mif\u001b[39;00m \u001b[39mself\u001b[39m\u001b[39m.\u001b[39mn_splits \u001b[39m>\u001b[39m n_samples:\n",
      "File \u001b[1;32mc:\\Users\\mares\\AppData\\Local\\Programs\\Python\\Python310\\lib\\site-packages\\sklearn\\utils\\validation.py:433\u001b[0m, in \u001b[0;36mindexable\u001b[1;34m(*iterables)\u001b[0m\n\u001b[0;32m    414\u001b[0m \u001b[39m\"\"\"Make arrays indexable for cross-validation.\u001b[39;00m\n\u001b[0;32m    415\u001b[0m \n\u001b[0;32m    416\u001b[0m \u001b[39mChecks consistent length, passes through None, and ensures that everything\u001b[39;00m\n\u001b[1;32m   (...)\u001b[0m\n\u001b[0;32m    429\u001b[0m \u001b[39m    sparse matrix, or dataframe) or `None`.\u001b[39;00m\n\u001b[0;32m    430\u001b[0m \u001b[39m\"\"\"\u001b[39;00m\n\u001b[0;32m    432\u001b[0m result \u001b[39m=\u001b[39m [_make_indexable(X) \u001b[39mfor\u001b[39;00m X \u001b[39min\u001b[39;00m iterables]\n\u001b[1;32m--> 433\u001b[0m check_consistent_length(\u001b[39m*\u001b[39;49mresult)\n\u001b[0;32m    434\u001b[0m \u001b[39mreturn\u001b[39;00m result\n",
      "File \u001b[1;32mc:\\Users\\mares\\AppData\\Local\\Programs\\Python\\Python310\\lib\\site-packages\\sklearn\\utils\\validation.py:387\u001b[0m, in \u001b[0;36mcheck_consistent_length\u001b[1;34m(*arrays)\u001b[0m\n\u001b[0;32m    385\u001b[0m uniques \u001b[39m=\u001b[39m np\u001b[39m.\u001b[39munique(lengths)\n\u001b[0;32m    386\u001b[0m \u001b[39mif\u001b[39;00m \u001b[39mlen\u001b[39m(uniques) \u001b[39m>\u001b[39m \u001b[39m1\u001b[39m:\n\u001b[1;32m--> 387\u001b[0m     \u001b[39mraise\u001b[39;00m \u001b[39mValueError\u001b[39;00m(\n\u001b[0;32m    388\u001b[0m         \u001b[39m\"\u001b[39m\u001b[39mFound input variables with inconsistent numbers of samples: \u001b[39m\u001b[39m%r\u001b[39;00m\u001b[39m\"\u001b[39m\n\u001b[0;32m    389\u001b[0m         \u001b[39m%\u001b[39m [\u001b[39mint\u001b[39m(l) \u001b[39mfor\u001b[39;00m l \u001b[39min\u001b[39;00m lengths]\n\u001b[0;32m    390\u001b[0m     )\n",
      "\u001b[1;31mValueError\u001b[0m: Found input variables with inconsistent numbers of samples: [1797387, 689149]"
     ]
    }
   ],
   "source": [
    "#his is cross validating train and test data\n",
    "kf = GroupKFold(n_splits= 10)\n",
    "for train_index, test_index in kf.split(x_resampled,labels):\n",
    "    x_train,x_test = x_resampled[train_index], x_resampled[test_index]\n",
    "    y_train, y_test = y_resampled[train_index], y_resampled[test_index]\n"
   ]
  },
  {
   "cell_type": "code",
   "execution_count": 21,
   "metadata": {},
   "outputs": [
    {
     "name": "stdout",
     "output_type": "stream",
     "text": [
      "[     0   6783  82760 597122]\n",
      "[   0   69  836 6031]\n",
      "{1: 33.74441004471964, 2: 2.765687932978895, 3: 0.3833192100330139}\n"
     ]
    }
   ],
   "source": [
    "kf = StratifiedKFold(n_splits= 100)\n",
    "for train_index, test_index in kf.split(features,labels):\n",
    "    x_train,x_test = features[train_index], features[test_index]\n",
    "    y_train, y_test = labels[train_index], labels[test_index]\n",
    "\n",
    "print(np.bincount(y_train))\n",
    "print(np.bincount(y_test))\n"
   ]
  },
  {
   "cell_type": "code",
   "execution_count": null,
   "metadata": {},
   "outputs": [],
   "source": [
    "class_weights = class_weight.compute_class_weight(class_weight='balanced', classes = np.unique(y_train), y =y_train)\n",
    "class_weights = dict(zip(np.unique(y_train), class_weights))\n",
    "print(class_weights)"
   ]
  },
  {
   "cell_type": "code",
   "execution_count": 22,
   "metadata": {},
   "outputs": [],
   "source": [
    "modelTree = DecisionTreeClassifier(criterion= \"entropy\", splitter = \"random\", max_depth= 57, class_weight = class_weights)\n",
    "sampler = RandomOverSampler(random_state=0)\n",
    "model = make_pipeline(sampler, modelTree)\n",
    "model.fit(X=x_train,y=y_train)\n",
    "predictions = model.predict(X=x_test)\n"
   ]
  },
  {
   "cell_type": "code",
   "execution_count": null,
   "metadata": {},
   "outputs": [],
   "source": [
    "model = DecisionTreeClassifier(criterion= \"entropy\", splitter = \"random\", max_depth= 57, class_weight = class_weights)\n",
    "model.fit(X=x_train,y=y_train)\n",
    "predictions = model.predict(X=x_test)\n"
   ]
  },
  {
   "cell_type": "code",
   "execution_count": 23,
   "metadata": {},
   "outputs": [
    {
     "name": "stdout",
     "output_type": "stream",
     "text": [
      "---------------------------\n",
      "Accuracy 0.3668\n",
      "Precision: 0.7987\n",
      "Recall: 0.3668\n",
      "F1 Score: 0.4726\n",
      "Mean squared error =  1.31\n",
      "Mean absolute error =   0.86\n"
     ]
    }
   ],
   "source": [
    "accuracy = accuracy_score(y_test,predictions)\n",
    "print(\"---------------------------\")\n",
    "print(f'Accuracy {accuracy:.4}')\n",
    "precision = precision_score(y_test, predictions, average=\"weighted\")\n",
    "recall = recall_score(y_test,predictions,average=\"weighted\")\n",
    "f1 = f1_score(y_test,predictions, average= \"weighted\")\n",
    "print(f'Precision: {precision:.4}')\n",
    "print(f'Recall: {recall:.4}')\n",
    "print(f'F1 Score: {f1:.4}')\n",
    "print('Mean squared error = {:5.2f}'.format(mean_squared_error(predictions,y_test)))\n",
    "print('Mean absolute error =  {:5.2f}'.format(mean_absolute_error(predictions,y_test)))"
   ]
  }
 ],
 "metadata": {
  "kernelspec": {
   "display_name": "Python 3.10.5 64-bit",
   "language": "python",
   "name": "python3"
  },
  "language_info": {
   "codemirror_mode": {
    "name": "ipython",
    "version": 3
   },
   "file_extension": ".py",
   "mimetype": "text/x-python",
   "name": "python",
   "nbconvert_exporter": "python",
   "pygments_lexer": "ipython3",
   "version": "3.10.5"
  },
  "orig_nbformat": 4,
  "vscode": {
   "interpreter": {
    "hash": "cff5e4e242313ab4d2ad37b479623f8c29c04d345d07d4bc18134935d56d1f32"
   }
  }
 },
 "nbformat": 4,
 "nbformat_minor": 2
}
